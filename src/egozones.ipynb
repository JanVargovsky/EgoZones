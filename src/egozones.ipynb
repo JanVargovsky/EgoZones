{
 "cells": [
  {
   "cell_type": "code",
   "execution_count": 1,
   "metadata": {},
   "outputs": [],
   "source": [
    "import pandas as pd\n",
    "import networkx as nx\n",
    "import numpy as np"
   ]
  },
  {
   "cell_type": "code",
   "execution_count": 2,
   "metadata": {},
   "outputs": [
    {
     "data": {
      "text/html": [
       "<div>\n",
       "<style scoped>\n",
       "    .dataframe tbody tr th:only-of-type {\n",
       "        vertical-align: middle;\n",
       "    }\n",
       "\n",
       "    .dataframe tbody tr th {\n",
       "        vertical-align: top;\n",
       "    }\n",
       "\n",
       "    .dataframe thead th {\n",
       "        text-align: right;\n",
       "    }\n",
       "</style>\n",
       "<table border=\"1\" class=\"dataframe\">\n",
       "  <thead>\n",
       "    <tr style=\"text-align: right;\">\n",
       "      <th></th>\n",
       "      <th>id1</th>\n",
       "      <th>id2</th>\n",
       "      <th>weight</th>\n",
       "    </tr>\n",
       "  </thead>\n",
       "  <tbody>\n",
       "    <tr>\n",
       "      <th>0</th>\n",
       "      <td>1</td>\n",
       "      <td>0</td>\n",
       "      <td>1</td>\n",
       "    </tr>\n",
       "    <tr>\n",
       "      <th>1</th>\n",
       "      <td>2</td>\n",
       "      <td>0</td>\n",
       "      <td>8</td>\n",
       "    </tr>\n",
       "    <tr>\n",
       "      <th>2</th>\n",
       "      <td>3</td>\n",
       "      <td>0</td>\n",
       "      <td>10</td>\n",
       "    </tr>\n",
       "    <tr>\n",
       "      <th>3</th>\n",
       "      <td>3</td>\n",
       "      <td>2</td>\n",
       "      <td>6</td>\n",
       "    </tr>\n",
       "    <tr>\n",
       "      <th>4</th>\n",
       "      <td>4</td>\n",
       "      <td>0</td>\n",
       "      <td>1</td>\n",
       "    </tr>\n",
       "  </tbody>\n",
       "</table>\n",
       "</div>"
      ],
      "text/plain": [
       "   id1  id2  weight\n",
       "0    1    0       1\n",
       "1    2    0       8\n",
       "2    3    0      10\n",
       "3    3    2       6\n",
       "4    4    0       1"
      ]
     },
     "execution_count": 2,
     "metadata": {},
     "output_type": "execute_result"
    }
   ],
   "source": [
    "#filename = 'edges karate.csv'\n",
    "filename = 'edges lesmis.csv'\n",
    "edges = pd.read_csv(filename, sep=';', header=None, names=['id1', 'id2', 'weight'])\n",
    "edges.head()"
   ]
  },
  {
   "cell_type": "code",
   "execution_count": 3,
   "metadata": {},
   "outputs": [
    {
     "data": {
      "text/html": [
       "<div>\n",
       "<style scoped>\n",
       "    .dataframe tbody tr th:only-of-type {\n",
       "        vertical-align: middle;\n",
       "    }\n",
       "\n",
       "    .dataframe tbody tr th {\n",
       "        vertical-align: top;\n",
       "    }\n",
       "\n",
       "    .dataframe thead th {\n",
       "        text-align: right;\n",
       "    }\n",
       "</style>\n",
       "<table border=\"1\" class=\"dataframe\">\n",
       "  <thead>\n",
       "    <tr style=\"text-align: right;\">\n",
       "      <th></th>\n",
       "      <th>id1</th>\n",
       "      <th>id2</th>\n",
       "      <th>weight</th>\n",
       "    </tr>\n",
       "  </thead>\n",
       "  <tbody>\n",
       "    <tr>\n",
       "      <th>0</th>\n",
       "      <td>1</td>\n",
       "      <td>0</td>\n",
       "      <td>1</td>\n",
       "    </tr>\n",
       "    <tr>\n",
       "      <th>1</th>\n",
       "      <td>2</td>\n",
       "      <td>0</td>\n",
       "      <td>8</td>\n",
       "    </tr>\n",
       "    <tr>\n",
       "      <th>2</th>\n",
       "      <td>3</td>\n",
       "      <td>0</td>\n",
       "      <td>10</td>\n",
       "    </tr>\n",
       "    <tr>\n",
       "      <th>3</th>\n",
       "      <td>3</td>\n",
       "      <td>2</td>\n",
       "      <td>6</td>\n",
       "    </tr>\n",
       "    <tr>\n",
       "      <th>4</th>\n",
       "      <td>4</td>\n",
       "      <td>0</td>\n",
       "      <td>1</td>\n",
       "    </tr>\n",
       "  </tbody>\n",
       "</table>\n",
       "</div>"
      ],
      "text/plain": [
       "   id1  id2  weight\n",
       "0    1    0       1\n",
       "1    2    0       8\n",
       "2    3    0      10\n",
       "3    3    2       6\n",
       "4    4    0       1"
      ]
     },
     "execution_count": 3,
     "metadata": {},
     "output_type": "execute_result"
    }
   ],
   "source": [
    "edges.head()"
   ]
  },
  {
   "cell_type": "code",
   "execution_count": 4,
   "metadata": {},
   "outputs": [],
   "source": [
    "G = nx.from_pandas_edgelist(edges, 'id1', 'id2', edge_attr=True)\n",
    "G = G.to_directed() # E[1, 2] and E[2, 1] must be different references"
   ]
  },
  {
   "cell_type": "code",
   "execution_count": 5,
   "metadata": {},
   "outputs": [
    {
     "data": {
      "text/plain": [
       "NodeView((1, 0, 2, 3, 4, 5, 6, 7, 8, 9, 11, 10, 12, 13, 14, 15, 17, 16, 18, 19, 20, 21, 22, 23, 24, 25, 26, 27, 28, 29, 30, 31, 32, 33, 34, 35, 36, 37, 38, 39, 40, 41, 42, 43, 44, 45, 47, 46, 48, 49, 50, 51, 52, 53, 54, 55, 56, 57, 58, 59, 60, 61, 62, 63, 64, 65, 66, 67, 68, 69, 70, 71, 72, 73, 74, 75, 76))"
      ]
     },
     "execution_count": 5,
     "metadata": {},
     "output_type": "execute_result"
    }
   ],
   "source": [
    "G.nodes()"
   ]
  },
  {
   "cell_type": "code",
   "execution_count": 6,
   "metadata": {},
   "outputs": [
    {
     "data": {
      "text/plain": [
       "OutEdgeView([(1, 0), (0, 1), (0, 2), (0, 3), (0, 4), (0, 5), (0, 6), (0, 7), (0, 8), (0, 9), (0, 11), (2, 0), (2, 3), (2, 11), (3, 0), (3, 2), (3, 11), (4, 0), (5, 0), (6, 0), (7, 0), (8, 0), (9, 0), (11, 10), (11, 3), (11, 2), (11, 0), (11, 12), (11, 13), (11, 14), (11, 15), (11, 23), (11, 24), (11, 25), (11, 26), (11, 27), (11, 28), (11, 29), (11, 31), (11, 32), (11, 33), (11, 34), (11, 35), (11, 36), (11, 37), (11, 38), (11, 43), (11, 44), (11, 48), (11, 49), (11, 51), (11, 55), (11, 58), (11, 64), (11, 68), (11, 69), (11, 70), (11, 71), (11, 72), (10, 11), (12, 11), (12, 23), (13, 11), (14, 11), (15, 11), (17, 16), (17, 18), (17, 19), (17, 20), (17, 21), (17, 22), (17, 23), (16, 17), (16, 18), (16, 19), (16, 20), (16, 21), (16, 22), (16, 23), (16, 26), (16, 55), (18, 16), (18, 17), (18, 19), (18, 20), (18, 21), (18, 22), (18, 23), (19, 16), (19, 17), (19, 18), (19, 20), (19, 21), (19, 22), (19, 23), (20, 16), (20, 17), (20, 18), (20, 19), (20, 21), (20, 22), (20, 23), (21, 16), (21, 17), (21, 18), (21, 19), (21, 20), (21, 22), (21, 23), (22, 16), (22, 17), (22, 18), (22, 19), (22, 20), (22, 21), (22, 23), (23, 16), (23, 17), (23, 18), (23, 19), (23, 20), (23, 21), (23, 22), (23, 12), (23, 11), (23, 24), (23, 25), (23, 27), (23, 29), (23, 30), (23, 31), (24, 23), (24, 11), (24, 25), (24, 26), (24, 27), (24, 41), (24, 42), (24, 50), (24, 68), (24, 69), (24, 70), (25, 24), (25, 23), (25, 11), (25, 26), (25, 27), (25, 39), (25, 40), (25, 41), (25, 42), (25, 48), (25, 55), (25, 68), (25, 69), (25, 70), (25, 71), (25, 75), (26, 24), (26, 11), (26, 16), (26, 25), (26, 27), (26, 43), (26, 49), (26, 51), (26, 54), (26, 55), (26, 72), (27, 11), (27, 23), (27, 25), (27, 24), (27, 26), (27, 28), (27, 29), (27, 31), (27, 33), (27, 43), (27, 48), (27, 58), (27, 68), (27, 69), (27, 70), (27, 71), (27, 72), (28, 11), (28, 27), (28, 44), (28, 45), (29, 23), (29, 27), (29, 11), (29, 34), (29, 35), (29, 36), (29, 37), (29, 38), (30, 23), (30, 31), (31, 30), (31, 11), (31, 23), (31, 27), (32, 11), (33, 11), (33, 27), (34, 11), (34, 29), (34, 35), (34, 36), (34, 37), (34, 38), (35, 11), (35, 34), (35, 29), (35, 36), (35, 37), (35, 38), (36, 34), (36, 35), (36, 11), (36, 29), (36, 37), (36, 38), (37, 34), (37, 35), (37, 36), (37, 11), (37, 29), (37, 38), (38, 34), (38, 35), (38, 36), (38, 37), (38, 11), (38, 29), (39, 25), (39, 52), (39, 55), (40, 25), (41, 24), (41, 25), (41, 42), (41, 55), (41, 57), (41, 62), (41, 68), (41, 69), (41, 70), (41, 71), (41, 75), (42, 41), (42, 25), (42, 24), (43, 11), (43, 26), (43, 27), (44, 28), (44, 11), (45, 28), (47, 46), (47, 48), (46, 47), (48, 47), (48, 25), (48, 27), (48, 11), (48, 55), (48, 57), (48, 58), (48, 59), (48, 60), (48, 61), (48, 62), (48, 63), (48, 64), (48, 65), (48, 66), (48, 68), (48, 69), (48, 71), (48, 73), (48, 74), (48, 75), (48, 76), (49, 26), (49, 11), (49, 50), (49, 51), (49, 54), (49, 55), (49, 56), (50, 49), (50, 24), (51, 49), (51, 26), (51, 11), (51, 52), (51, 53), (51, 54), (51, 55), (52, 51), (52, 39), (53, 51), (54, 51), (54, 49), (54, 26), (54, 55), (55, 51), (55, 49), (55, 39), (55, 54), (55, 26), (55, 11), (55, 16), (55, 25), (55, 41), (55, 48), (55, 56), (55, 57), (55, 58), (55, 59), (55, 61), (55, 62), (55, 63), (55, 64), (55, 65), (56, 49), (56, 55), (57, 55), (57, 41), (57, 48), (57, 58), (57, 59), (57, 61), (57, 62), (57, 63), (57, 64), (57, 65), (57, 67), (58, 55), (58, 48), (58, 27), (58, 57), (58, 11), (58, 59), (58, 60), (58, 61), (58, 62), (58, 63), (58, 64), (58, 65), (58, 66), (58, 70), (58, 76), (59, 58), (59, 55), (59, 48), (59, 57), (59, 60), (59, 61), (59, 62), (59, 63), (59, 64), (59, 65), (59, 66), (60, 48), (60, 58), (60, 59), (60, 61), (60, 62), (60, 63), (60, 64), (60, 65), (60, 66), (61, 48), (61, 58), (61, 60), (61, 59), (61, 57), (61, 55), (61, 62), (61, 63), (61, 64), (61, 65), (61, 66), (62, 55), (62, 58), (62, 59), (62, 48), (62, 57), (62, 41), (62, 61), (62, 60), (62, 63), (62, 64), (62, 65), (62, 66), (62, 76), (63, 59), (63, 48), (63, 62), (63, 57), (63, 58), (63, 61), (63, 60), (63, 55), (63, 64), (63, 65), (63, 66), (63, 76), (64, 55), (64, 62), (64, 48), (64, 63), (64, 58), (64, 61), (64, 60), (64, 59), (64, 57), (64, 11), (64, 65), (64, 66), (64, 76), (65, 63), (65, 64), (65, 48), (65, 62), (65, 58), (65, 61), (65, 60), (65, 59), (65, 57), (65, 55), (65, 66), (65, 76), (66, 64), (66, 58), (66, 59), (66, 62), (66, 65), (66, 48), (66, 63), (66, 61), (66, 60), (66, 76), (67, 57), (68, 25), (68, 11), (68, 24), (68, 27), (68, 48), (68, 41), (68, 69), (68, 70), (68, 71), (68, 75), (69, 25), (69, 68), (69, 11), (69, 24), (69, 27), (69, 48), (69, 41), (69, 70), (69, 71), (69, 75), (70, 25), (70, 69), (70, 68), (70, 11), (70, 24), (70, 27), (70, 41), (70, 58), (70, 71), (70, 75), (71, 27), (71, 69), (71, 68), (71, 70), (71, 11), (71, 48), (71, 41), (71, 25), (71, 75), (72, 26), (72, 27), (72, 11), (73, 48), (73, 74), (74, 48), (74, 73), (75, 69), (75, 68), (75, 25), (75, 48), (75, 41), (75, 70), (75, 71), (76, 64), (76, 65), (76, 66), (76, 63), (76, 62), (76, 48), (76, 58)])"
      ]
     },
     "execution_count": 6,
     "metadata": {},
     "output_type": "execute_result"
    }
   ],
   "source": [
    "G.edges()"
   ]
  },
  {
   "cell_type": "code",
   "execution_count": 7,
   "metadata": {},
   "outputs": [],
   "source": [
    "def get_weight(G, u, v):\n",
    "    return G.get_edge_data(u, v)['weight']\n",
    "\n",
    "def dependency_coefficient(G, x, v, y):\n",
    "    return get_weight(G, v, y) / (get_weight(G, x, v) + get_weight(G, v, y))\n",
    "\n",
    "for x, y in G.edges():\n",
    "    edge = G.get_edge_data(x, y)\n",
    "    w = edge['weight']\n",
    "    N = set(G.neighbors(x))\n",
    "    #CN = nx.common_neighbors(G, x, y) # not implemented for directed type\n",
    "    CN = N & set(G.neighbors(y))\n",
    "    \n",
    "    edge['D'] = (w + sum(get_weight(G, x, v) * dependency_coefficient(G, x, v, y) for v in CN)) / sum(get_weight(G, x, v) for v in N)"
   ]
  },
  {
   "cell_type": "code",
   "execution_count": 8,
   "metadata": {},
   "outputs": [
    {
     "data": {
      "text/html": [
       "<div>\n",
       "<style scoped>\n",
       "    .dataframe tbody tr th:only-of-type {\n",
       "        vertical-align: middle;\n",
       "    }\n",
       "\n",
       "    .dataframe tbody tr th {\n",
       "        vertical-align: top;\n",
       "    }\n",
       "\n",
       "    .dataframe thead th {\n",
       "        text-align: right;\n",
       "    }\n",
       "</style>\n",
       "<table border=\"1\" class=\"dataframe\">\n",
       "  <thead>\n",
       "    <tr style=\"text-align: right;\">\n",
       "      <th></th>\n",
       "      <th>id1</th>\n",
       "      <th>id2</th>\n",
       "      <th>dep verification</th>\n",
       "    </tr>\n",
       "  </thead>\n",
       "  <tbody>\n",
       "    <tr>\n",
       "      <th>0</th>\n",
       "      <td>1</td>\n",
       "      <td>0</td>\n",
       "      <td>1.000000</td>\n",
       "    </tr>\n",
       "    <tr>\n",
       "      <th>1</th>\n",
       "      <td>0</td>\n",
       "      <td>1</td>\n",
       "      <td>0.032258</td>\n",
       "    </tr>\n",
       "    <tr>\n",
       "      <th>2</th>\n",
       "      <td>2</td>\n",
       "      <td>0</td>\n",
       "      <td>0.801471</td>\n",
       "    </tr>\n",
       "    <tr>\n",
       "      <th>3</th>\n",
       "      <td>0</td>\n",
       "      <td>2</td>\n",
       "      <td>0.439516</td>\n",
       "    </tr>\n",
       "    <tr>\n",
       "      <th>4</th>\n",
       "      <td>3</td>\n",
       "      <td>0</td>\n",
       "      <td>0.805451</td>\n",
       "    </tr>\n",
       "  </tbody>\n",
       "</table>\n",
       "</div>"
      ],
      "text/plain": [
       "   id1  id2  dep verification\n",
       "0    1    0          1.000000\n",
       "1    0    1          0.032258\n",
       "2    2    0          0.801471\n",
       "3    0    2          0.439516\n",
       "4    3    0          0.805451"
      ]
     },
     "execution_count": 8,
     "metadata": {},
     "output_type": "execute_result"
    }
   ],
   "source": [
    "#filename_verification = 'edges_dep_directed karate.csv'\n",
    "filename_verification = 'edges_dep_directed lesmis.csv'\n",
    "edges_verification = pd.read_csv(filename_verification, sep=';', header=None, names=['id1', 'id2', 'dep verification'])\n",
    "edges_verification.head()"
   ]
  },
  {
   "cell_type": "code",
   "execution_count": 9,
   "metadata": {},
   "outputs": [
    {
     "data": {
      "text/html": [
       "<div>\n",
       "<style scoped>\n",
       "    .dataframe tbody tr th:only-of-type {\n",
       "        vertical-align: middle;\n",
       "    }\n",
       "\n",
       "    .dataframe tbody tr th {\n",
       "        vertical-align: top;\n",
       "    }\n",
       "\n",
       "    .dataframe thead th {\n",
       "        text-align: right;\n",
       "    }\n",
       "</style>\n",
       "<table border=\"1\" class=\"dataframe\">\n",
       "  <thead>\n",
       "    <tr style=\"text-align: right;\">\n",
       "      <th></th>\n",
       "      <th>id1</th>\n",
       "      <th>id2</th>\n",
       "      <th>dep verification</th>\n",
       "      <th>dep</th>\n",
       "    </tr>\n",
       "  </thead>\n",
       "  <tbody>\n",
       "    <tr>\n",
       "      <th>0</th>\n",
       "      <td>1</td>\n",
       "      <td>0</td>\n",
       "      <td>1.000000</td>\n",
       "      <td>1.000000</td>\n",
       "    </tr>\n",
       "    <tr>\n",
       "      <th>1</th>\n",
       "      <td>0</td>\n",
       "      <td>1</td>\n",
       "      <td>0.032258</td>\n",
       "      <td>0.032258</td>\n",
       "    </tr>\n",
       "    <tr>\n",
       "      <th>2</th>\n",
       "      <td>2</td>\n",
       "      <td>0</td>\n",
       "      <td>0.801471</td>\n",
       "      <td>0.801471</td>\n",
       "    </tr>\n",
       "    <tr>\n",
       "      <th>3</th>\n",
       "      <td>0</td>\n",
       "      <td>2</td>\n",
       "      <td>0.439516</td>\n",
       "      <td>0.439516</td>\n",
       "    </tr>\n",
       "    <tr>\n",
       "      <th>4</th>\n",
       "      <td>3</td>\n",
       "      <td>0</td>\n",
       "      <td>0.805451</td>\n",
       "      <td>0.805451</td>\n",
       "    </tr>\n",
       "  </tbody>\n",
       "</table>\n",
       "</div>"
      ],
      "text/plain": [
       "   id1  id2  dep verification       dep\n",
       "0    1    0          1.000000  1.000000\n",
       "1    0    1          0.032258  0.032258\n",
       "2    2    0          0.801471  0.801471\n",
       "3    0    2          0.439516  0.439516\n",
       "4    3    0          0.805451  0.805451"
      ]
     },
     "execution_count": 9,
     "metadata": {},
     "output_type": "execute_result"
    }
   ],
   "source": [
    "edges_verification['dep'] = edges_verification.apply(lambda row: G.get_edge_data(row['id1'], row['id2'])['D'], axis=1)\n",
    "edges_verification.head()"
   ]
  },
  {
   "cell_type": "code",
   "execution_count": 10,
   "metadata": {},
   "outputs": [],
   "source": [
    "np.testing.assert_allclose(edges_verification['dep'], edges_verification['dep verification'])"
   ]
  },
  {
   "cell_type": "code",
   "execution_count": 11,
   "metadata": {},
   "outputs": [],
   "source": [
    "edges_verification.to_csv('verification' + filename_verification)"
   ]
  }
 ],
 "metadata": {
  "kernelspec": {
   "display_name": "Python 3",
   "language": "python",
   "name": "python3"
  },
  "language_info": {
   "codemirror_mode": {
    "name": "ipython",
    "version": 3
   },
   "file_extension": ".py",
   "mimetype": "text/x-python",
   "name": "python",
   "nbconvert_exporter": "python",
   "pygments_lexer": "ipython3",
   "version": "3.8.5"
  }
 },
 "nbformat": 4,
 "nbformat_minor": 4
}
