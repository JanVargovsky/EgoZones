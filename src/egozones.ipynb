{
 "cells": [
  {
   "cell_type": "code",
   "execution_count": 1,
   "metadata": {},
   "outputs": [],
   "source": [
    "import pandas as pd\n",
    "import networkx as nx\n",
    "import numpy as np"
   ]
  },
  {
   "cell_type": "code",
   "execution_count": 2,
   "metadata": {},
   "outputs": [
    {
     "data": {
      "text/html": [
       "<div>\n",
       "<style scoped>\n",
       "    .dataframe tbody tr th:only-of-type {\n",
       "        vertical-align: middle;\n",
       "    }\n",
       "\n",
       "    .dataframe tbody tr th {\n",
       "        vertical-align: top;\n",
       "    }\n",
       "\n",
       "    .dataframe thead th {\n",
       "        text-align: right;\n",
       "    }\n",
       "</style>\n",
       "<table border=\"1\" class=\"dataframe\">\n",
       "  <thead>\n",
       "    <tr style=\"text-align: right;\">\n",
       "      <th></th>\n",
       "      <th>id1</th>\n",
       "      <th>id2</th>\n",
       "      <th>weight</th>\n",
       "    </tr>\n",
       "  </thead>\n",
       "  <tbody>\n",
       "    <tr>\n",
       "      <th>0</th>\n",
       "      <td>2</td>\n",
       "      <td>1</td>\n",
       "      <td>1</td>\n",
       "    </tr>\n",
       "    <tr>\n",
       "      <th>1</th>\n",
       "      <td>3</td>\n",
       "      <td>1</td>\n",
       "      <td>1</td>\n",
       "    </tr>\n",
       "    <tr>\n",
       "      <th>2</th>\n",
       "      <td>3</td>\n",
       "      <td>2</td>\n",
       "      <td>1</td>\n",
       "    </tr>\n",
       "    <tr>\n",
       "      <th>3</th>\n",
       "      <td>4</td>\n",
       "      <td>1</td>\n",
       "      <td>1</td>\n",
       "    </tr>\n",
       "    <tr>\n",
       "      <th>4</th>\n",
       "      <td>4</td>\n",
       "      <td>2</td>\n",
       "      <td>1</td>\n",
       "    </tr>\n",
       "  </tbody>\n",
       "</table>\n",
       "</div>"
      ],
      "text/plain": [
       "   id1  id2  weight\n",
       "0    2    1       1\n",
       "1    3    1       1\n",
       "2    3    2       1\n",
       "3    4    1       1\n",
       "4    4    2       1"
      ]
     },
     "execution_count": 2,
     "metadata": {},
     "output_type": "execute_result"
    }
   ],
   "source": [
    "filename = 'edges karate.csv'\n",
    "#filename = 'edges lesmis.csv'\n",
    "edges = pd.read_csv(filename, sep=';', header=None, names=['id1', 'id2', 'weight'])\n",
    "edges.head()"
   ]
  },
  {
   "cell_type": "code",
   "execution_count": 3,
   "metadata": {},
   "outputs": [
    {
     "data": {
      "text/html": [
       "<div>\n",
       "<style scoped>\n",
       "    .dataframe tbody tr th:only-of-type {\n",
       "        vertical-align: middle;\n",
       "    }\n",
       "\n",
       "    .dataframe tbody tr th {\n",
       "        vertical-align: top;\n",
       "    }\n",
       "\n",
       "    .dataframe thead th {\n",
       "        text-align: right;\n",
       "    }\n",
       "</style>\n",
       "<table border=\"1\" class=\"dataframe\">\n",
       "  <thead>\n",
       "    <tr style=\"text-align: right;\">\n",
       "      <th></th>\n",
       "      <th>id1</th>\n",
       "      <th>id2</th>\n",
       "      <th>weight</th>\n",
       "    </tr>\n",
       "  </thead>\n",
       "  <tbody>\n",
       "    <tr>\n",
       "      <th>0</th>\n",
       "      <td>2</td>\n",
       "      <td>1</td>\n",
       "      <td>1</td>\n",
       "    </tr>\n",
       "    <tr>\n",
       "      <th>1</th>\n",
       "      <td>3</td>\n",
       "      <td>1</td>\n",
       "      <td>1</td>\n",
       "    </tr>\n",
       "    <tr>\n",
       "      <th>2</th>\n",
       "      <td>3</td>\n",
       "      <td>2</td>\n",
       "      <td>1</td>\n",
       "    </tr>\n",
       "    <tr>\n",
       "      <th>3</th>\n",
       "      <td>4</td>\n",
       "      <td>1</td>\n",
       "      <td>1</td>\n",
       "    </tr>\n",
       "    <tr>\n",
       "      <th>4</th>\n",
       "      <td>4</td>\n",
       "      <td>2</td>\n",
       "      <td>1</td>\n",
       "    </tr>\n",
       "  </tbody>\n",
       "</table>\n",
       "</div>"
      ],
      "text/plain": [
       "   id1  id2  weight\n",
       "0    2    1       1\n",
       "1    3    1       1\n",
       "2    3    2       1\n",
       "3    4    1       1\n",
       "4    4    2       1"
      ]
     },
     "execution_count": 3,
     "metadata": {},
     "output_type": "execute_result"
    }
   ],
   "source": [
    "edges.head()"
   ]
  },
  {
   "cell_type": "code",
   "execution_count": 4,
   "metadata": {},
   "outputs": [],
   "source": [
    "G = nx.from_pandas_edgelist(edges, 'id1', 'id2', edge_attr=True)\n",
    "G = G.to_directed() # E[1, 2] and E[2, 1] must be different references"
   ]
  },
  {
   "cell_type": "code",
   "execution_count": 5,
   "metadata": {},
   "outputs": [
    {
     "data": {
      "text/plain": [
       "NodeView((2, 1, 3, 4, 5, 6, 7, 8, 9, 10, 11, 12, 13, 14, 17, 18, 20, 22, 26, 24, 25, 28, 29, 30, 27, 31, 32, 33, 15, 16, 19, 21, 23, 34))"
      ]
     },
     "execution_count": 5,
     "metadata": {},
     "output_type": "execute_result"
    }
   ],
   "source": [
    "G.nodes()"
   ]
  },
  {
   "cell_type": "code",
   "execution_count": 6,
   "metadata": {},
   "outputs": [
    {
     "data": {
      "text/plain": [
       "OutEdgeView([(2, 1), (2, 3), (2, 4), (2, 8), (2, 14), (2, 18), (2, 20), (2, 22), (2, 31), (1, 2), (1, 3), (1, 4), (1, 5), (1, 6), (1, 7), (1, 8), (1, 9), (1, 11), (1, 12), (1, 13), (1, 14), (1, 18), (1, 20), (1, 22), (1, 32), (3, 1), (3, 2), (3, 4), (3, 8), (3, 9), (3, 10), (3, 14), (3, 28), (3, 29), (3, 33), (4, 1), (4, 2), (4, 3), (4, 8), (4, 13), (4, 14), (5, 1), (5, 7), (5, 11), (6, 1), (6, 7), (6, 11), (6, 17), (7, 1), (7, 5), (7, 6), (7, 17), (8, 1), (8, 2), (8, 3), (8, 4), (9, 1), (9, 3), (9, 31), (9, 33), (9, 34), (10, 3), (10, 34), (11, 1), (11, 5), (11, 6), (12, 1), (13, 1), (13, 4), (14, 1), (14, 2), (14, 3), (14, 4), (14, 34), (17, 6), (17, 7), (18, 1), (18, 2), (20, 1), (20, 2), (20, 34), (22, 1), (22, 2), (26, 24), (26, 25), (26, 32), (24, 26), (24, 28), (24, 30), (24, 33), (24, 34), (25, 26), (25, 28), (25, 32), (28, 3), (28, 24), (28, 25), (28, 34), (29, 3), (29, 32), (29, 34), (30, 24), (30, 27), (30, 33), (30, 34), (27, 30), (27, 34), (31, 2), (31, 9), (31, 33), (31, 34), (32, 1), (32, 25), (32, 26), (32, 29), (32, 33), (32, 34), (33, 3), (33, 9), (33, 15), (33, 16), (33, 19), (33, 21), (33, 23), (33, 24), (33, 30), (33, 31), (33, 32), (33, 34), (15, 33), (15, 34), (16, 33), (16, 34), (19, 33), (19, 34), (21, 33), (21, 34), (23, 33), (23, 34), (34, 9), (34, 10), (34, 14), (34, 15), (34, 16), (34, 19), (34, 20), (34, 21), (34, 23), (34, 24), (34, 27), (34, 28), (34, 29), (34, 30), (34, 31), (34, 32), (34, 33)])"
      ]
     },
     "execution_count": 6,
     "metadata": {},
     "output_type": "execute_result"
    }
   ],
   "source": [
    "G.edges()"
   ]
  },
  {
   "cell_type": "code",
   "execution_count": 7,
   "metadata": {},
   "outputs": [],
   "source": [
    "def get_weight(G, u, v):\n",
    "    return G.get_edge_data(u, v)['weight']\n",
    "\n",
    "def dependency_coefficient(G, x, v, y):\n",
    "    return get_weight(G, v, y) / (get_weight(G, x, v) + get_weight(G, v, y))\n",
    "\n",
    "for x, y in G.edges():\n",
    "    edge = G.get_edge_data(x, y)\n",
    "    w = edge['weight']\n",
    "    N = set(G.neighbors(x))\n",
    "    #CN = nx.common_neighbors(G, x, y) # not implemented for directed type\n",
    "    CN = N & set(G.neighbors(y))\n",
    "    \n",
    "    edge['D'] = (w + sum(get_weight(G, x, v) * dependency_coefficient(G, x, v, y) for v in CN)) / sum(get_weight(G, x, v) for v in N)"
   ]
  },
  {
   "cell_type": "code",
   "execution_count": 8,
   "metadata": {},
   "outputs": [
    {
     "data": {
      "text/html": [
       "<div>\n",
       "<style scoped>\n",
       "    .dataframe tbody tr th:only-of-type {\n",
       "        vertical-align: middle;\n",
       "    }\n",
       "\n",
       "    .dataframe tbody tr th {\n",
       "        vertical-align: top;\n",
       "    }\n",
       "\n",
       "    .dataframe thead th {\n",
       "        text-align: right;\n",
       "    }\n",
       "</style>\n",
       "<table border=\"1\" class=\"dataframe\">\n",
       "  <thead>\n",
       "    <tr style=\"text-align: right;\">\n",
       "      <th></th>\n",
       "      <th>id1</th>\n",
       "      <th>id2</th>\n",
       "      <th>dep verification</th>\n",
       "    </tr>\n",
       "  </thead>\n",
       "  <tbody>\n",
       "    <tr>\n",
       "      <th>0</th>\n",
       "      <td>2</td>\n",
       "      <td>1</td>\n",
       "      <td>0.50000</td>\n",
       "    </tr>\n",
       "    <tr>\n",
       "      <th>1</th>\n",
       "      <td>1</td>\n",
       "      <td>2</td>\n",
       "      <td>0.28125</td>\n",
       "    </tr>\n",
       "    <tr>\n",
       "      <th>2</th>\n",
       "      <td>3</td>\n",
       "      <td>1</td>\n",
       "      <td>0.35000</td>\n",
       "    </tr>\n",
       "    <tr>\n",
       "      <th>3</th>\n",
       "      <td>1</td>\n",
       "      <td>3</td>\n",
       "      <td>0.21875</td>\n",
       "    </tr>\n",
       "    <tr>\n",
       "      <th>4</th>\n",
       "      <td>3</td>\n",
       "      <td>2</td>\n",
       "      <td>0.30000</td>\n",
       "    </tr>\n",
       "  </tbody>\n",
       "</table>\n",
       "</div>"
      ],
      "text/plain": [
       "   id1  id2  dep verification\n",
       "0    2    1           0.50000\n",
       "1    1    2           0.28125\n",
       "2    3    1           0.35000\n",
       "3    1    3           0.21875\n",
       "4    3    2           0.30000"
      ]
     },
     "execution_count": 8,
     "metadata": {},
     "output_type": "execute_result"
    }
   ],
   "source": [
    "filename_verification = 'edges_dep_directed karate.csv'\n",
    "#filename_verification = 'edges_dep_directed lesmis.csv'\n",
    "edges_verification = pd.read_csv(filename_verification, sep=';', header=None, names=['id1', 'id2', 'dep verification'])\n",
    "edges_verification.head()"
   ]
  },
  {
   "cell_type": "code",
   "execution_count": 9,
   "metadata": {},
   "outputs": [
    {
     "data": {
      "text/html": [
       "<div>\n",
       "<style scoped>\n",
       "    .dataframe tbody tr th:only-of-type {\n",
       "        vertical-align: middle;\n",
       "    }\n",
       "\n",
       "    .dataframe tbody tr th {\n",
       "        vertical-align: top;\n",
       "    }\n",
       "\n",
       "    .dataframe thead th {\n",
       "        text-align: right;\n",
       "    }\n",
       "</style>\n",
       "<table border=\"1\" class=\"dataframe\">\n",
       "  <thead>\n",
       "    <tr style=\"text-align: right;\">\n",
       "      <th></th>\n",
       "      <th>id1</th>\n",
       "      <th>id2</th>\n",
       "      <th>dep verification</th>\n",
       "      <th>dep</th>\n",
       "    </tr>\n",
       "  </thead>\n",
       "  <tbody>\n",
       "    <tr>\n",
       "      <th>0</th>\n",
       "      <td>2</td>\n",
       "      <td>1</td>\n",
       "      <td>0.50000</td>\n",
       "      <td>0.50000</td>\n",
       "    </tr>\n",
       "    <tr>\n",
       "      <th>1</th>\n",
       "      <td>1</td>\n",
       "      <td>2</td>\n",
       "      <td>0.28125</td>\n",
       "      <td>0.28125</td>\n",
       "    </tr>\n",
       "    <tr>\n",
       "      <th>2</th>\n",
       "      <td>3</td>\n",
       "      <td>1</td>\n",
       "      <td>0.35000</td>\n",
       "      <td>0.35000</td>\n",
       "    </tr>\n",
       "    <tr>\n",
       "      <th>3</th>\n",
       "      <td>1</td>\n",
       "      <td>3</td>\n",
       "      <td>0.21875</td>\n",
       "      <td>0.21875</td>\n",
       "    </tr>\n",
       "    <tr>\n",
       "      <th>4</th>\n",
       "      <td>3</td>\n",
       "      <td>2</td>\n",
       "      <td>0.30000</td>\n",
       "      <td>0.30000</td>\n",
       "    </tr>\n",
       "  </tbody>\n",
       "</table>\n",
       "</div>"
      ],
      "text/plain": [
       "   id1  id2  dep verification      dep\n",
       "0    2    1           0.50000  0.50000\n",
       "1    1    2           0.28125  0.28125\n",
       "2    3    1           0.35000  0.35000\n",
       "3    1    3           0.21875  0.21875\n",
       "4    3    2           0.30000  0.30000"
      ]
     },
     "execution_count": 9,
     "metadata": {},
     "output_type": "execute_result"
    }
   ],
   "source": [
    "edges_verification['dep'] = edges_verification.apply(lambda row: G.get_edge_data(row['id1'], row['id2'])['D'], axis=1)\n",
    "edges_verification.head()"
   ]
  },
  {
   "cell_type": "code",
   "execution_count": 10,
   "metadata": {},
   "outputs": [],
   "source": [
    "np.testing.assert_allclose(edges_verification['dep'], edges_verification['dep verification'])"
   ]
  },
  {
   "cell_type": "code",
   "execution_count": 11,
   "metadata": {},
   "outputs": [],
   "source": [
    "edges_verification.to_csv('verification' + filename_verification)"
   ]
  },
  {
   "cell_type": "code",
   "execution_count": 12,
   "metadata": {},
   "outputs": [],
   "source": [
    "def is_dependent(G, x, y, threshold = 0.5):\n",
    "    return G.get_edge_data(x,y)['D'] >= threshold"
   ]
  },
  {
   "cell_type": "code",
   "execution_count": 13,
   "metadata": {},
   "outputs": [],
   "source": [
    "def zone_detection(G, ego):\n",
    "    zone = set()\n",
    "    inner_zone = set()\n",
    "    outer_zone = set()\n",
    "    \n",
    "    # detection of inner-zone\n",
    "    nodes_last_added = set()\n",
    "    nodes_outside = set()\n",
    "    inner_zone.add(ego)\n",
    "    nodes_last_added.add(ego)\n",
    "    \n",
    "    while len(nodes_last_added) > 0:\n",
    "        for v in nodes_last_added:\n",
    "            for adj in G.neighbors(v):\n",
    "                if adj not in inner_zone and is_dependent(G, adj, v):\n",
    "                    nodes_outside.add(adj)\n",
    "        inner_zone.update(nodes_outside)\n",
    "        nodes_last_added.clear()\n",
    "        nodes_last_added.update(nodes_outside)\n",
    "        nodes_outside.clear()\n",
    "    \n",
    "    # detection of outer-zone\n",
    "    for v in inner_zone:\n",
    "        for adj in G.neighbors(v):\n",
    "            if is_dependent(G, v, adj) and adj not in inner_zone:\n",
    "                outer_zone.add(adj)\n",
    "\n",
    "    # composition of zone\n",
    "    zone.update(inner_zone)\n",
    "    zone.update(outer_zone)\n",
    "    \n",
    "    return zone, inner_zone, outer_zone"
   ]
  },
  {
   "cell_type": "code",
   "execution_count": 14,
   "metadata": {},
   "outputs": [],
   "source": [
    "assert zone_detection(G, 1)[0] == set([14,4,8,2,20,18,22,1,13,12,5,11,7,6,17,3])\n",
    "assert zone_detection(G, 34)[0] == set([34,32,3,24,30,27,15,16,21,33,23,19,31,9,10,29])\n",
    "assert zone_detection(G, 6)[0] == set([1,5,11,7,6,17])\n",
    "assert zone_detection(G, 7)[0] == set([1,5,11,7,6,17])\n",
    "assert zone_detection(G, 33)[0] == set([33,30,27,15,16,21,23,19,31,9,34,24])\n",
    "assert zone_detection(G, 2)[0] == set([2,20,22,18,8,14,4,13,1,3])\n",
    "assert zone_detection(G, 30)[0] == set([30,27,24,33,34])\n",
    "assert zone_detection(G, 24)[0] == set([30,27,24,33,34])\n",
    "assert zone_detection(G, 4)[0] == set([4,14,8,13,2,3,1])\n",
    "assert zone_detection(G, 9)[0] == set([9,31,33,34])\n",
    "assert zone_detection(G, 31)[0] == set([9,31,33,34])\n",
    "assert zone_detection(G, 3)[0] == set([3,34,10,14,4,8,13,1,2])\n",
    "assert zone_detection(G, 32)[0] == set([32,34,26,25,29])\n",
    "\n",
    "assert zone_detection(G, 5)[0] == set([5,11,7,6,1])\n",
    "assert zone_detection(G, 11)[0] == set([5,11,7,6,1])\n",
    "assert zone_detection(G, 8)[0] == set([8,4,3,2,1])\n",
    "assert zone_detection(G, 17)[0] == set([17,7,6])\n",
    "assert zone_detection(G, 14)[0] == set([14,3,4,2,1])\n",
    "assert zone_detection(G, 25)[0] == set([25,26,32])\n",
    "assert zone_detection(G, 26)[0] == set([25,26,32])\n",
    "assert zone_detection(G, 10)[0] == set([10,34,3])\n",
    "\n",
    "assert zone_detection(G, 12)[0] == set([12,1])\n",
    "assert zone_detection(G, 13)[0] == set([13,1,4])\n",
    "assert zone_detection(G, 15)[0] == set([15,33,34])\n",
    "assert zone_detection(G, 16)[0] == set([16,33,34])\n",
    "assert zone_detection(G, 18)[0] == set([18,1,2])\n",
    "assert zone_detection(G, 19)[0] == set([19,33,34])\n",
    "assert zone_detection(G, 20)[0] == set([20,1,2])\n",
    "assert zone_detection(G, 21)[0] == set([21,33,34])\n",
    "assert zone_detection(G, 22)[0] == set([22,1,2])\n",
    "assert zone_detection(G, 23)[0] == set([23,33,34])\n",
    "assert zone_detection(G, 27)[0] == set([27,30,34])\n",
    "assert zone_detection(G, 28)[0] == set([28])\n",
    "assert zone_detection(G, 29)[0] == set([29,32,34])"
   ]
  }
 ],
 "metadata": {
  "kernelspec": {
   "display_name": "Python 3",
   "language": "python",
   "name": "python3"
  },
  "language_info": {
   "codemirror_mode": {
    "name": "ipython",
    "version": 3
   },
   "file_extension": ".py",
   "mimetype": "text/x-python",
   "name": "python",
   "nbconvert_exporter": "python",
   "pygments_lexer": "ipython3",
   "version": "3.8.5"
  }
 },
 "nbformat": 4,
 "nbformat_minor": 4
}
